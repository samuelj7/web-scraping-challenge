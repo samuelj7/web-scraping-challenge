{
 "cells": [
  {
   "cell_type": "code",
   "execution_count": 1,
   "id": "330fdc11",
   "metadata": {},
   "outputs": [],
   "source": [
    "#!pip install splinter\n"
   ]
  },
  {
   "cell_type": "code",
   "execution_count": 2,
   "id": "efbea37b",
   "metadata": {},
   "outputs": [],
   "source": [
    "#!pip install selenium\n",
    "\n"
   ]
  },
  {
   "cell_type": "code",
   "execution_count": 3,
   "id": "55fb39ec",
   "metadata": {},
   "outputs": [],
   "source": [
    "#!pip install webdriver-manager\n"
   ]
  },
  {
   "cell_type": "code",
   "execution_count": 4,
   "id": "6ca10a6e",
   "metadata": {},
   "outputs": [],
   "source": [
    "from bs4 import BeautifulSoup as bs\n",
    "import pandas as pd\n",
    "from splinter import Browser\n",
    "import os\n",
    "import requests\n",
    "from webdriver_manager.chrome import ChromeDriverManager"
   ]
  },
  {
   "cell_type": "markdown",
   "id": "9c899add",
   "metadata": {},
   "source": [
    "# NASA Mars News"
   ]
  },
  {
   "cell_type": "code",
   "execution_count": 5,
   "id": "b79cc476",
   "metadata": {},
   "outputs": [
    {
     "name": "stderr",
     "output_type": "stream",
     "text": [
      "\n",
      "\n",
      "====== WebDriver manager ======\n",
      "Current google-chrome version is 102.0.5005\n",
      "Get LATEST chromedriver version for 102.0.5005 google-chrome\n",
      "Driver [/Users/samuelferreira/.wdm/drivers/chromedriver/mac64/102.0.5005.61/chromedriver] found in cache\n"
     ]
    }
   ],
   "source": [
    "executable_path = {'executable_path' : ChromeDriverManager().install()}\n",
    "browser = Browser('chrome', **executable_path, headless=False)\n",
    "\n"
   ]
  },
  {
   "cell_type": "code",
   "execution_count": 6,
   "id": "034fdfc5",
   "metadata": {},
   "outputs": [],
   "source": [
    "url = \"https://redplanetscience.com/\"\n",
    "browser.visit(url)\n"
   ]
  },
  {
   "cell_type": "code",
   "execution_count": 7,
   "id": "6d59ca9b",
   "metadata": {},
   "outputs": [],
   "source": [
    "html = browser.html\n",
    "soup = bs(html, 'html.parser')"
   ]
  },
  {
   "cell_type": "code",
   "execution_count": 8,
   "id": "2b58a091",
   "metadata": {},
   "outputs": [
    {
     "data": {
      "text/plain": [
       "<div class=\"content_title\">NASA's Curiosity Mars Rover Snaps Its Highest-Resolution Panorama Yet</div>"
      ]
     },
     "execution_count": 8,
     "metadata": {},
     "output_type": "execute_result"
    }
   ],
   "source": [
    "news_title = soup.find('div', class_='content_title')\n",
    "news_title"
   ]
  },
  {
   "cell_type": "code",
   "execution_count": 9,
   "id": "38db29bd",
   "metadata": {},
   "outputs": [
    {
     "data": {
      "text/plain": [
       "'To go along with the stunning 1.8-billion-pixel image, a new video offers a sweeping view of the Red Planet.'"
      ]
     },
     "execution_count": 9,
     "metadata": {},
     "output_type": "execute_result"
    }
   ],
   "source": [
    "paragraphs =soup.find_all('div', class_='article_teaser_body')\n",
    "first_paragraph = paragraphs[0].text\n",
    "first_paragraph"
   ]
  },
  {
   "cell_type": "markdown",
   "id": "d9ea3374",
   "metadata": {},
   "source": [
    "# JPL Mars Space Images - Featured Image"
   ]
  },
  {
   "cell_type": "code",
   "execution_count": 10,
   "id": "d1f423fc",
   "metadata": {},
   "outputs": [],
   "source": [
    "url = 'https://spaceimages-mars.com/'\n",
    "browser.visit(url)\n",
    "\n",
    "html = browser.html\n",
    "soup_v2 = bs(html, 'html.parser')\n",
    "\n",
    "#soup?\n",
    "\n"
   ]
  },
  {
   "cell_type": "code",
   "execution_count": 11,
   "id": "5a35c1cb",
   "metadata": {},
   "outputs": [
    {
     "data": {
      "text/plain": [
       "'https://spaceimages-mars.com/image/featured/mars3.jpg'"
      ]
     },
     "execution_count": 11,
     "metadata": {},
     "output_type": "execute_result"
    }
   ],
   "source": [
    "img = soup_v2.find('img', class_='headerimage fade-in')['src']\n",
    "mars_img = url + img\n",
    "mars_img"
   ]
  },
  {
   "cell_type": "markdown",
   "id": "bfe4da58",
   "metadata": {},
   "source": [
    "# Mars Facts"
   ]
  },
  {
   "cell_type": "code",
   "execution_count": 12,
   "id": "4981f3f5",
   "metadata": {},
   "outputs": [
    {
     "data": {
      "text/plain": [
       "[                         0                1                2\n",
       " 0  Mars - Earth Comparison             Mars            Earth\n",
       " 1                Diameter:         6,779 km        12,742 km\n",
       " 2                    Mass:  6.39 × 10^23 kg  5.97 × 10^24 kg\n",
       " 3                   Moons:                2                1\n",
       " 4       Distance from Sun:   227,943,824 km   149,598,262 km\n",
       " 5          Length of Year:   687 Earth days      365.24 days\n",
       " 6             Temperature:     -87 to -5 °C      -88 to 58°C,\n",
       "                       0                              1\n",
       " 0  Equatorial Diameter:                       6,792 km\n",
       " 1       Polar Diameter:                       6,752 km\n",
       " 2                 Mass:  6.39 × 10^23 kg (0.11 Earths)\n",
       " 3                Moons:          2 ( Phobos & Deimos )\n",
       " 4       Orbit Distance:       227,943,824 km (1.38 AU)\n",
       " 5         Orbit Period:           687 days (1.9 years)\n",
       " 6  Surface Temperature:                   -87 to -5 °C\n",
       " 7         First Record:              2nd millennium BC\n",
       " 8          Recorded By:           Egyptian astronomers]"
      ]
     },
     "execution_count": 12,
     "metadata": {},
     "output_type": "execute_result"
    }
   ],
   "source": [
    "url_3 = 'https://galaxyfacts-mars.com/'\n",
    "browser.visit(url_3)\n",
    "\n",
    "table_string = pd.read_html(url_3)\n",
    "table_string"
   ]
  },
  {
   "cell_type": "code",
   "execution_count": 13,
   "id": "70cd90f3",
   "metadata": {},
   "outputs": [],
   "source": [
    "#df = table_string[1]\n",
    "#df"
   ]
  },
  {
   "cell_type": "code",
   "execution_count": 14,
   "id": "4cef55d3",
   "metadata": {},
   "outputs": [
    {
     "data": {
      "text/html": [
       "<div>\n",
       "<style scoped>\n",
       "    .dataframe tbody tr th:only-of-type {\n",
       "        vertical-align: middle;\n",
       "    }\n",
       "\n",
       "    .dataframe tbody tr th {\n",
       "        vertical-align: top;\n",
       "    }\n",
       "\n",
       "    .dataframe thead th {\n",
       "        text-align: right;\n",
       "    }\n",
       "</style>\n",
       "<table border=\"1\" class=\"dataframe\">\n",
       "  <thead>\n",
       "    <tr style=\"text-align: right;\">\n",
       "      <th></th>\n",
       "      <th>0</th>\n",
       "      <th>1</th>\n",
       "      <th>2</th>\n",
       "    </tr>\n",
       "  </thead>\n",
       "  <tbody>\n",
       "    <tr>\n",
       "      <th>0</th>\n",
       "      <td>Mars - Earth Comparison</td>\n",
       "      <td>Mars</td>\n",
       "      <td>Earth</td>\n",
       "    </tr>\n",
       "    <tr>\n",
       "      <th>1</th>\n",
       "      <td>Diameter:</td>\n",
       "      <td>6,779 km</td>\n",
       "      <td>12,742 km</td>\n",
       "    </tr>\n",
       "    <tr>\n",
       "      <th>2</th>\n",
       "      <td>Mass:</td>\n",
       "      <td>6.39 × 10^23 kg</td>\n",
       "      <td>5.97 × 10^24 kg</td>\n",
       "    </tr>\n",
       "    <tr>\n",
       "      <th>3</th>\n",
       "      <td>Moons:</td>\n",
       "      <td>2</td>\n",
       "      <td>1</td>\n",
       "    </tr>\n",
       "    <tr>\n",
       "      <th>4</th>\n",
       "      <td>Distance from Sun:</td>\n",
       "      <td>227,943,824 km</td>\n",
       "      <td>149,598,262 km</td>\n",
       "    </tr>\n",
       "    <tr>\n",
       "      <th>5</th>\n",
       "      <td>Length of Year:</td>\n",
       "      <td>687 Earth days</td>\n",
       "      <td>365.24 days</td>\n",
       "    </tr>\n",
       "    <tr>\n",
       "      <th>6</th>\n",
       "      <td>Temperature:</td>\n",
       "      <td>-87 to -5 °C</td>\n",
       "      <td>-88 to 58°C</td>\n",
       "    </tr>\n",
       "  </tbody>\n",
       "</table>\n",
       "</div>"
      ],
      "text/plain": [
       "                         0                1                2\n",
       "0  Mars - Earth Comparison             Mars            Earth\n",
       "1                Diameter:         6,779 km        12,742 km\n",
       "2                    Mass:  6.39 × 10^23 kg  5.97 × 10^24 kg\n",
       "3                   Moons:                2                1\n",
       "4       Distance from Sun:   227,943,824 km   149,598,262 km\n",
       "5          Length of Year:   687 Earth days      365.24 days\n",
       "6             Temperature:     -87 to -5 °C      -88 to 58°C"
      ]
     },
     "execution_count": 14,
     "metadata": {},
     "output_type": "execute_result"
    }
   ],
   "source": [
    "df= table_string[0]\n",
    "df"
   ]
  },
  {
   "cell_type": "code",
   "execution_count": 15,
   "id": "5b33be02",
   "metadata": {},
   "outputs": [
    {
     "data": {
      "text/plain": [
       "'<table border=\"1\" class=\"dataframe\">\\n  <thead>\\n    <tr style=\"text-align: right;\">\\n      <th></th>\\n      <th>0</th>\\n      <th>1</th>\\n      <th>2</th>\\n    </tr>\\n  </thead>\\n  <tbody>\\n    <tr>\\n      <th>0</th>\\n      <td>Mars - Earth Comparison</td>\\n      <td>Mars</td>\\n      <td>Earth</td>\\n    </tr>\\n    <tr>\\n      <th>1</th>\\n      <td>Diameter:</td>\\n      <td>6,779 km</td>\\n      <td>12,742 km</td>\\n    </tr>\\n    <tr>\\n      <th>2</th>\\n      <td>Mass:</td>\\n      <td>6.39 × 10^23 kg</td>\\n      <td>5.97 × 10^24 kg</td>\\n    </tr>\\n    <tr>\\n      <th>3</th>\\n      <td>Moons:</td>\\n      <td>2</td>\\n      <td>1</td>\\n    </tr>\\n    <tr>\\n      <th>4</th>\\n      <td>Distance from Sun:</td>\\n      <td>227,943,824 km</td>\\n      <td>149,598,262 km</td>\\n    </tr>\\n    <tr>\\n      <th>5</th>\\n      <td>Length of Year:</td>\\n      <td>687 Earth days</td>\\n      <td>365.24 days</td>\\n    </tr>\\n    <tr>\\n      <th>6</th>\\n      <td>Temperature:</td>\\n      <td>-87 to -5 °C</td>\\n      <td>-88 to 58°C</td>\\n    </tr>\\n  </tbody>\\n</table>'"
      ]
     },
     "execution_count": 15,
     "metadata": {},
     "output_type": "execute_result"
    }
   ],
   "source": [
    "df_html = df.to_html()\n",
    "df_html"
   ]
  },
  {
   "cell_type": "code",
   "execution_count": 16,
   "id": "0764f911",
   "metadata": {},
   "outputs": [
    {
     "data": {
      "text/plain": [
       "'<table border=\"1\" class=\"dataframe\">   <thead>     <tr style=\"text-align: right;\">       <th></th>       <th>0</th>       <th>1</th>       <th>2</th>     </tr>   </thead>   <tbody>     <tr>       <th>0</th>       <td>Mars - Earth Comparison</td>       <td>Mars</td>       <td>Earth</td>     </tr>     <tr>       <th>1</th>       <td>Diameter:</td>       <td>6,779 km</td>       <td>12,742 km</td>     </tr>     <tr>       <th>2</th>       <td>Mass:</td>       <td>6.39 × 10^23 kg</td>       <td>5.97 × 10^24 kg</td>     </tr>     <tr>       <th>3</th>       <td>Moons:</td>       <td>2</td>       <td>1</td>     </tr>     <tr>       <th>4</th>       <td>Distance from Sun:</td>       <td>227,943,824 km</td>       <td>149,598,262 km</td>     </tr>     <tr>       <th>5</th>       <td>Length of Year:</td>       <td>687 Earth days</td>       <td>365.24 days</td>     </tr>     <tr>       <th>6</th>       <td>Temperature:</td>       <td>-87 to -5 °C</td>       <td>-88 to 58°C</td>     </tr>   </tbody> </table>'"
      ]
     },
     "execution_count": 16,
     "metadata": {},
     "output_type": "execute_result"
    }
   ],
   "source": [
    "html_table = df_html.replace('\\n', ' ')\n",
    "html_table"
   ]
  },
  {
   "cell_type": "markdown",
   "id": "ef654f5b",
   "metadata": {},
   "source": [
    "# Mars Hemisphere"
   ]
  },
  {
   "cell_type": "code",
   "execution_count": 17,
   "id": "706e6e44",
   "metadata": {},
   "outputs": [],
   "source": [
    "#Steps\n",
    "# Computer goes to https://marshemispheres.com/\n",
    "#Use browser.find_by_name('Cereberus').click()\n",
    "# Find src = ....jpg from img with class='wide image'\n",
    "# Find h2 class ='title'\n",
    "#Create dict to store information\n",
    "#Put dict inside of an image_hemisphere list\n",
    "#Restart at Step 1 to repeat process"
   ]
  },
  {
   "cell_type": "code",
   "execution_count": 18,
   "id": "04c48ed1",
   "metadata": {},
   "outputs": [],
   "source": [
    "#First Hemisphere\n",
    "url_4 = 'https://marshemispheres.com/'\n",
    "browser.visit(url_4)\n",
    "\n",
    "\n",
    "\n"
   ]
  },
  {
   "cell_type": "code",
   "execution_count": 19,
   "id": "561ec9a0",
   "metadata": {},
   "outputs": [],
   "source": [
    "html = browser.html\n",
    "soup = bs(html, 'html.parser')"
   ]
  },
  {
   "cell_type": "code",
   "execution_count": 20,
   "id": "df0a1c23",
   "metadata": {},
   "outputs": [],
   "source": [
    "browser.find_by_text('Cerberus Hemisphere Enhanced').click()\n"
   ]
  },
  {
   "cell_type": "code",
   "execution_count": 21,
   "id": "e5329f66",
   "metadata": {},
   "outputs": [
    {
     "data": {
      "text/plain": [
       "'https://marshemispheres.com/images/f5e372a36edfa389625da6d0cc25d905_cerberus_enhanced.tif_full.jpg'"
      ]
     },
     "execution_count": 21,
     "metadata": {},
     "output_type": "execute_result"
    }
   ],
   "source": [
    "image = browser.find_by_tag('img')[4]\n",
    "image['src']\n"
   ]
  },
  {
   "cell_type": "code",
   "execution_count": 22,
   "id": "753233b1",
   "metadata": {},
   "outputs": [
    {
     "data": {
      "text/plain": [
       "'Cerberus Hemisphere Enhanced'"
      ]
     },
     "execution_count": 22,
     "metadata": {},
     "output_type": "execute_result"
    }
   ],
   "source": [
    "title_hemisphere = browser.find_by_tag('h2')\n",
    "#title_hemisphere = soup.find('h2', class_ = 'title')\n",
    "title_hemisphere.text"
   ]
  },
  {
   "cell_type": "code",
   "execution_count": 23,
   "id": "9e8dbe6a",
   "metadata": {},
   "outputs": [],
   "source": [
    "#Defining a list\n",
    "\n",
    "hemisphere_list = []"
   ]
  },
  {
   "cell_type": "code",
   "execution_count": 24,
   "id": "34716752",
   "metadata": {},
   "outputs": [
    {
     "data": {
      "text/plain": [
       "{'Title': 'Cerberus Hemisphere Enhanced',\n",
       " 'img_url': 'https://marshemispheres.com/images/f5e372a36edfa389625da6d0cc25d905_cerberus_enhanced.tif_full.jpg'}"
      ]
     },
     "execution_count": 24,
     "metadata": {},
     "output_type": "execute_result"
    }
   ],
   "source": [
    "hemisphere_image_urls= {}\n",
    "hemisphere_image_urls['Title'] = title_hemisphere.text\n",
    "hemisphere_image_urls['img_url'] = image['src']\n",
    "hemisphere_image_urls"
   ]
  },
  {
   "cell_type": "code",
   "execution_count": 25,
   "id": "55c4635d",
   "metadata": {},
   "outputs": [
    {
     "data": {
      "text/plain": [
       "[{'Title': 'Cerberus Hemisphere Enhanced',\n",
       "  'img_url': 'https://marshemispheres.com/images/f5e372a36edfa389625da6d0cc25d905_cerberus_enhanced.tif_full.jpg'}]"
      ]
     },
     "execution_count": 25,
     "metadata": {},
     "output_type": "execute_result"
    }
   ],
   "source": [
    "hemisphere_list.append(hemisphere_image_urls)\n",
    "hemisphere_list"
   ]
  },
  {
   "cell_type": "code",
   "execution_count": 26,
   "id": "b34eff3b",
   "metadata": {},
   "outputs": [],
   "source": [
    "#Hemisphere 2\n",
    "\n",
    "#url_5 = 'https://marshemispheres.com/'\n",
    "#browser.visit(url_5)\n"
   ]
  },
  {
   "cell_type": "code",
   "execution_count": 27,
   "id": "cee1f53d",
   "metadata": {},
   "outputs": [],
   "source": [
    "#Hemisphere 2\n",
    "#executable_path = {'executable_path' : ChromeDriverManager().install()}\n",
    "#browser = Browser('chrome', **executable_path, headless=False)\n"
   ]
  },
  {
   "cell_type": "code",
   "execution_count": 28,
   "id": "f2df6259",
   "metadata": {},
   "outputs": [],
   "source": [
    "#url_5 = 'https://marshemispheres.com/'\n",
    "#browser.visit(url_5)\n"
   ]
  },
  {
   "cell_type": "code",
   "execution_count": 29,
   "id": "159cc36a",
   "metadata": {},
   "outputs": [],
   "source": [
    "#html = browser.html\n",
    "#soup = bs(html, 'html.parser')"
   ]
  },
  {
   "cell_type": "code",
   "execution_count": 30,
   "id": "c8e9740e",
   "metadata": {},
   "outputs": [],
   "source": [
    "browser.back()\n"
   ]
  },
  {
   "cell_type": "code",
   "execution_count": 31,
   "id": "dcf8cea9",
   "metadata": {},
   "outputs": [],
   "source": [
    "browser.find_by_text('Schiaparelli Hemisphere Enhanced').click()\n"
   ]
  },
  {
   "cell_type": "code",
   "execution_count": 32,
   "id": "b71353ed",
   "metadata": {},
   "outputs": [
    {
     "data": {
      "text/plain": [
       "'https://marshemispheres.com/images/3778f7b43bbbc89d6e3cfabb3613ba93_schiaparelli_enhanced.tif_full.jpg'"
      ]
     },
     "execution_count": 32,
     "metadata": {},
     "output_type": "execute_result"
    }
   ],
   "source": [
    "image_2 = browser.find_by_tag('img')[4]\n",
    "image_2['src']\n"
   ]
  },
  {
   "cell_type": "code",
   "execution_count": 33,
   "id": "daaec2a9",
   "metadata": {},
   "outputs": [
    {
     "data": {
      "text/plain": [
       "'Schiaparelli Hemisphere Enhanced'"
      ]
     },
     "execution_count": 33,
     "metadata": {},
     "output_type": "execute_result"
    }
   ],
   "source": [
    "title_hemisphere_2 = browser.find_by_tag('h2')[0]\n",
    "#title_hemisphere_2 = soup.find('h2', class_='title')\n",
    "title_hemisphere_2.text"
   ]
  },
  {
   "cell_type": "code",
   "execution_count": 34,
   "id": "66558fcf",
   "metadata": {},
   "outputs": [],
   "source": [
    "hemisphere_image_urls_2 ={}"
   ]
  },
  {
   "cell_type": "code",
   "execution_count": 35,
   "id": "07fbbf1a",
   "metadata": {},
   "outputs": [
    {
     "data": {
      "text/plain": [
       "{'Title': 'Schiaparelli Hemisphere Enhanced',\n",
       " 'img_url': 'https://marshemispheres.com/images/3778f7b43bbbc89d6e3cfabb3613ba93_schiaparelli_enhanced.tif_full.jpg'}"
      ]
     },
     "execution_count": 35,
     "metadata": {},
     "output_type": "execute_result"
    }
   ],
   "source": [
    "hemisphere_image_urls_2['Title'] = title_hemisphere_2.text\n",
    "hemisphere_image_urls_2['img_url'] = image_2['src']\n",
    "hemisphere_image_urls_2"
   ]
  },
  {
   "cell_type": "code",
   "execution_count": 36,
   "id": "a5092b27",
   "metadata": {},
   "outputs": [
    {
     "data": {
      "text/plain": [
       "[{'Title': 'Cerberus Hemisphere Enhanced',\n",
       "  'img_url': 'https://marshemispheres.com/images/f5e372a36edfa389625da6d0cc25d905_cerberus_enhanced.tif_full.jpg'},\n",
       " {'Title': 'Schiaparelli Hemisphere Enhanced',\n",
       "  'img_url': 'https://marshemispheres.com/images/3778f7b43bbbc89d6e3cfabb3613ba93_schiaparelli_enhanced.tif_full.jpg'}]"
      ]
     },
     "execution_count": 36,
     "metadata": {},
     "output_type": "execute_result"
    }
   ],
   "source": [
    "hemisphere_list.append(hemisphere_image_urls_2)\n",
    "hemisphere_list"
   ]
  },
  {
   "cell_type": "code",
   "execution_count": null,
   "id": "bcc2c39f",
   "metadata": {},
   "outputs": [],
   "source": []
  },
  {
   "cell_type": "code",
   "execution_count": 37,
   "id": "ddbd9061",
   "metadata": {},
   "outputs": [],
   "source": [
    "#Hemisphere 3\n",
    "browser.back()"
   ]
  },
  {
   "cell_type": "code",
   "execution_count": 38,
   "id": "be586787",
   "metadata": {},
   "outputs": [],
   "source": [
    "browser.find_by_text('Syrtis Major Hemisphere Enhanced').click()\n"
   ]
  },
  {
   "cell_type": "code",
   "execution_count": 39,
   "id": "ecc63d9c",
   "metadata": {},
   "outputs": [
    {
     "data": {
      "text/plain": [
       "'https://marshemispheres.com/images/555e6403a6ddd7ba16ddb0e471cadcf7_syrtis_major_enhanced.tif_full.jpg'"
      ]
     },
     "execution_count": 39,
     "metadata": {},
     "output_type": "execute_result"
    }
   ],
   "source": [
    "image_3 = browser.find_by_tag('img')[4]\n",
    "image_3['src']\n"
   ]
  },
  {
   "cell_type": "code",
   "execution_count": 40,
   "id": "30e9d3fc",
   "metadata": {},
   "outputs": [
    {
     "data": {
      "text/plain": [
       "'Syrtis Major Hemisphere Enhanced'"
      ]
     },
     "execution_count": 40,
     "metadata": {},
     "output_type": "execute_result"
    }
   ],
   "source": [
    "title_hemisphere_3 = browser.find_by_tag('h2')[0]\n",
    "title_hemisphere_3.text"
   ]
  },
  {
   "cell_type": "code",
   "execution_count": 41,
   "id": "b38565d9",
   "metadata": {},
   "outputs": [
    {
     "data": {
      "text/plain": [
       "{'Title': 'Syrtis Major Hemisphere Enhanced',\n",
       " 'img_url': 'https://marshemispheres.com/images/555e6403a6ddd7ba16ddb0e471cadcf7_syrtis_major_enhanced.tif_full.jpg'}"
      ]
     },
     "execution_count": 41,
     "metadata": {},
     "output_type": "execute_result"
    }
   ],
   "source": [
    "hemisphere_image_urls_3 = {}\n",
    "hemisphere_image_urls_3['Title'] = title_hemisphere_3.text\n",
    "hemisphere_image_urls_3['img_url'] = image_3['src']\n",
    "hemisphere_image_urls_3"
   ]
  },
  {
   "cell_type": "code",
   "execution_count": 42,
   "id": "cfd94c08",
   "metadata": {},
   "outputs": [
    {
     "data": {
      "text/plain": [
       "[{'Title': 'Cerberus Hemisphere Enhanced',\n",
       "  'img_url': 'https://marshemispheres.com/images/f5e372a36edfa389625da6d0cc25d905_cerberus_enhanced.tif_full.jpg'},\n",
       " {'Title': 'Schiaparelli Hemisphere Enhanced',\n",
       "  'img_url': 'https://marshemispheres.com/images/3778f7b43bbbc89d6e3cfabb3613ba93_schiaparelli_enhanced.tif_full.jpg'},\n",
       " {'Title': 'Syrtis Major Hemisphere Enhanced',\n",
       "  'img_url': 'https://marshemispheres.com/images/555e6403a6ddd7ba16ddb0e471cadcf7_syrtis_major_enhanced.tif_full.jpg'}]"
      ]
     },
     "execution_count": 42,
     "metadata": {},
     "output_type": "execute_result"
    }
   ],
   "source": [
    "hemisphere_list.append(hemisphere_image_urls_3)\n",
    "hemisphere_list"
   ]
  },
  {
   "cell_type": "code",
   "execution_count": 43,
   "id": "22e07aa8",
   "metadata": {},
   "outputs": [],
   "source": [
    "#hemisphere_list = hemisphere_list.pop(3)"
   ]
  },
  {
   "cell_type": "code",
   "execution_count": 44,
   "id": "1fe2116d",
   "metadata": {},
   "outputs": [
    {
     "data": {
      "text/plain": [
       "[{'Title': 'Cerberus Hemisphere Enhanced',\n",
       "  'img_url': 'https://marshemispheres.com/images/f5e372a36edfa389625da6d0cc25d905_cerberus_enhanced.tif_full.jpg'},\n",
       " {'Title': 'Schiaparelli Hemisphere Enhanced',\n",
       "  'img_url': 'https://marshemispheres.com/images/3778f7b43bbbc89d6e3cfabb3613ba93_schiaparelli_enhanced.tif_full.jpg'},\n",
       " {'Title': 'Syrtis Major Hemisphere Enhanced',\n",
       "  'img_url': 'https://marshemispheres.com/images/555e6403a6ddd7ba16ddb0e471cadcf7_syrtis_major_enhanced.tif_full.jpg'}]"
      ]
     },
     "execution_count": 44,
     "metadata": {},
     "output_type": "execute_result"
    }
   ],
   "source": [
    "hemisphere_list"
   ]
  },
  {
   "cell_type": "code",
   "execution_count": 45,
   "id": "283d3cc0",
   "metadata": {},
   "outputs": [],
   "source": [
    "#Hemisphere 4\n",
    "browser.back()"
   ]
  },
  {
   "cell_type": "code",
   "execution_count": 46,
   "id": "cbdacd35",
   "metadata": {},
   "outputs": [],
   "source": [
    "browser.find_by_text('Valles Marineris Hemisphere Enhanced').click()\n"
   ]
  },
  {
   "cell_type": "code",
   "execution_count": 47,
   "id": "4d2e8ab8",
   "metadata": {},
   "outputs": [
    {
     "data": {
      "text/plain": [
       "'https://marshemispheres.com/images/b3c7c6c9138f57b4756be9b9c43e3a48_valles_marineris_enhanced.tif_full.jpg'"
      ]
     },
     "execution_count": 47,
     "metadata": {},
     "output_type": "execute_result"
    }
   ],
   "source": [
    "image_4 = browser.find_by_tag('img')[4]\n",
    "image_4['src']\n"
   ]
  },
  {
   "cell_type": "code",
   "execution_count": 48,
   "id": "e69f5ae6",
   "metadata": {},
   "outputs": [
    {
     "data": {
      "text/plain": [
       "'Valles Marineris Hemisphere Enhanced'"
      ]
     },
     "execution_count": 48,
     "metadata": {},
     "output_type": "execute_result"
    }
   ],
   "source": [
    "title_hemisphere_4 = browser.find_by_tag('h2')[0]\n",
    "title_hemisphere_4.text"
   ]
  },
  {
   "cell_type": "code",
   "execution_count": 49,
   "id": "a9353ad5",
   "metadata": {},
   "outputs": [
    {
     "data": {
      "text/plain": [
       "{'Title': 'Valles Marineris Hemisphere Enhanced',\n",
       " 'img_url': 'https://marshemispheres.com/images/b3c7c6c9138f57b4756be9b9c43e3a48_valles_marineris_enhanced.tif_full.jpg'}"
      ]
     },
     "execution_count": 49,
     "metadata": {},
     "output_type": "execute_result"
    }
   ],
   "source": [
    "hemisphere_image_urls_4 = {}\n",
    "hemisphere_image_urls_4['Title'] = title_hemisphere_4.text\n",
    "hemisphere_image_urls_4['img_url'] = image_4['src']\n",
    "hemisphere_image_urls_4"
   ]
  },
  {
   "cell_type": "code",
   "execution_count": 50,
   "id": "97659eb5",
   "metadata": {},
   "outputs": [
    {
     "data": {
      "text/plain": [
       "[{'Title': 'Cerberus Hemisphere Enhanced',\n",
       "  'img_url': 'https://marshemispheres.com/images/f5e372a36edfa389625da6d0cc25d905_cerberus_enhanced.tif_full.jpg'},\n",
       " {'Title': 'Schiaparelli Hemisphere Enhanced',\n",
       "  'img_url': 'https://marshemispheres.com/images/3778f7b43bbbc89d6e3cfabb3613ba93_schiaparelli_enhanced.tif_full.jpg'},\n",
       " {'Title': 'Syrtis Major Hemisphere Enhanced',\n",
       "  'img_url': 'https://marshemispheres.com/images/555e6403a6ddd7ba16ddb0e471cadcf7_syrtis_major_enhanced.tif_full.jpg'},\n",
       " {'Title': 'Valles Marineris Hemisphere Enhanced',\n",
       "  'img_url': 'https://marshemispheres.com/images/b3c7c6c9138f57b4756be9b9c43e3a48_valles_marineris_enhanced.tif_full.jpg'}]"
      ]
     },
     "execution_count": 50,
     "metadata": {},
     "output_type": "execute_result"
    }
   ],
   "source": [
    "hemisphere_list.append(hemisphere_image_urls_4)\n",
    "hemisphere_list"
   ]
  },
  {
   "cell_type": "code",
   "execution_count": 51,
   "id": "2b39cec2",
   "metadata": {},
   "outputs": [],
   "source": [
    "browser.quit()"
   ]
  }
 ],
 "metadata": {
  "kernelspec": {
   "display_name": "Python 3 (ipykernel)",
   "language": "python",
   "name": "python3"
  },
  "language_info": {
   "codemirror_mode": {
    "name": "ipython",
    "version": 3
   },
   "file_extension": ".py",
   "mimetype": "text/x-python",
   "name": "python",
   "nbconvert_exporter": "python",
   "pygments_lexer": "ipython3",
   "version": "3.9.7"
  }
 },
 "nbformat": 4,
 "nbformat_minor": 5
}
